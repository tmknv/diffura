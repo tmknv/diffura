{
  "nbformat": 4,
  "nbformat_minor": 0,
  "metadata": {
    "colab": {
      "provenance": []
    },
    "kernelspec": {
      "name": "python3",
      "display_name": "Python 3"
    },
    "language_info": {
      "name": "python"
    }
  },
  "cells": [
    {
      "cell_type": "code",
      "execution_count": null,
      "metadata": {
        "id": "TOQP9ivDiMqk"
      },
      "outputs": [],
      "source": [
        "#y'' +y' -2y=0"
      ]
    },
    {
      "cell_type": "code",
      "source": [
        "import seaborn as sns\n",
        "import numpy as np\n",
        "import pandas as pd"
      ],
      "metadata": {
        "id": "6fEypsXfEAsx"
      },
      "execution_count": null,
      "outputs": []
    },
    {
      "cell_type": "code",
      "source": [
        "A_b=1\n",
        "B_b=10\n",
        "n=1000\n",
        "dx=(B_b-A_b)/n"
      ],
      "metadata": {
        "id": "v_AdUJHNklkF"
      },
      "execution_count": null,
      "outputs": []
    },
    {
      "cell_type": "code",
      "source": [
        "def A_x(a2_x,dx,a1_x):\n",
        "    return (a2_x/dx**2+a1_x/dx)"
      ],
      "metadata": {
        "id": "QUgsJ3Zl1sFF"
      },
      "execution_count": null,
      "outputs": []
    },
    {
      "cell_type": "code",
      "source": [
        "def B_x(a1_x, dx,a2_x):\n",
        "    return(-2*(a1_x/dx**2) - a1_x/dx +a2_x)"
      ],
      "metadata": {
        "id": "Pq9dKleH2hDL"
      },
      "execution_count": null,
      "outputs": []
    },
    {
      "cell_type": "code",
      "source": [
        "def C_x(a1_x,dx):\n",
        "    return a1_x/dx**2"
      ],
      "metadata": {
        "id": "lYXyCexp3D_0"
      },
      "execution_count": null,
      "outputs": []
    },
    {
      "cell_type": "code",
      "source": [
        "def alpha(A_i,B_i,C_i,alpha_last):\n",
        "    return(-A_i/(B_i+C_i*alpha_last))"
      ],
      "metadata": {
        "id": "EykNTQg76jtn"
      },
      "execution_count": null,
      "outputs": []
    },
    {
      "cell_type": "code",
      "source": [
        "def beta(C_i,beta_last,B_i,alpha_last):\n",
        "    return(-C_i*beta_last/(B_i+C_i*alpha_last))"
      ],
      "metadata": {
        "id": "LQb3IY7x6_5C"
      },
      "execution_count": null,
      "outputs": []
    },
    {
      "cell_type": "code",
      "source": [
        "def y_1(y,y_last,dx):\n",
        "    return (y-y_last)/dx"
      ],
      "metadata": {
        "id": "ous3QNKH7qsC"
      },
      "execution_count": null,
      "outputs": []
    },
    {
      "cell_type": "code",
      "source": [
        "def y_2(y,y_last,y_last_last,dx):\n",
        "    return (y_1(y,y_last,dx) -y_1(y_last,y_last_last,dx))/dx"
      ],
      "metadata": {
        "id": "pmDMnhP9AUVo"
      },
      "execution_count": null,
      "outputs": []
    },
    {
      "cell_type": "code",
      "source": [
        "def __y__(y_last,alpha_last,beta_last):\n",
        "    return ((y_last-beta_last)/alpha_last)"
      ],
      "metadata": {
        "id": "1NWNJXf6BNzq"
      },
      "execution_count": null,
      "outputs": []
    },
    {
      "cell_type": "code",
      "source": [
        "x=A_b\n",
        "lx=[]\n",
        "A=[]\n",
        "B=[]\n",
        "C=[]\n",
        "Lalpha=[]\n",
        "Lbeta=[]\n",
        "lx.append(x)\n",
        "\n",
        "Lalpha.append(0)\n",
        "Lbeta.append(A_b)\n",
        "while x<B_b:\n",
        "    a1=1\n",
        "    a2=1\n",
        "    a3=-2\n",
        "    x+=dx\n",
        "\n",
        "\n",
        "    A.append(A_x(a2,dx,a1))\n",
        "    B.append(B_x(a1, dx,a2))\n",
        "    C.append(C_x(a1, dx))\n",
        "    Lalpha.append(alpha(A[-1],B[-1],C[-1],Lalpha[-1]))\n",
        "    Lbeta.append(beta(C[-1],Lbeta[-1],B[-1],Lalpha[-2]))\n",
        "    lx.append(x)\n",
        "print(\n",
        "    \"A[0]: \",A[0], \" A[n]: \",A[-1], \"\\n\", \\\n",
        "    \"B[0]: \",B[0], \" B[n]: \",B[-1], '\\n',\\\n",
        "    \"C[0]: \",C[0], \" C[n]: \",C[-1], '\\n' \\\n",
        "    \"alpha[0]: \",Lalpha[0], \" alpha[n]: \",Lalpha[-1], '\\n',\\\n",
        "    \"beta[0]: \",Lbeta[0], \" beta[n]: \",Lbeta[-1], '\\n' \\\n",
        "\n",
        "      )"
      ],
      "metadata": {
        "colab": {
          "base_uri": "https://localhost:8080/"
        },
        "id": "GNXt5MN0ksot",
        "outputId": "f2c94a0b-4320-4ec5-98cf-914f0a49e31e"
      },
      "execution_count": null,
      "outputs": [
        {
          "output_type": "stream",
          "name": "stdout",
          "text": [
            "A[0]:  12456.790123456793  A[n]:  12456.790123456793 \n",
            " B[0]:  -24801.469135802472  B[n]:  -24801.469135802472 \n",
            " C[0]:  12345.679012345681  C[n]:  12345.679012345681 \n",
            "alpha[0]:  0  alpha[n]:  1.0039617005144679 \n",
            " beta[0]:  1  beta[n]:  8.839268456122035e-05 \n",
            "\n"
          ]
        }
      ]
    },
    {
      "cell_type": "code",
      "source": [
        "df=pd.DataFrame()\n",
        "df[\"alpha\"]=Lalpha\n",
        "df[\"beta\"]=Lbeta\n",
        "df"
      ],
      "metadata": {
        "colab": {
          "base_uri": "https://localhost:8080/",
          "height": 424
        },
        "id": "x4GRru7QEP0W",
        "outputId": "21252736-cc4c-4d01-f8d4-74de066ac485"
      },
      "execution_count": null,
      "outputs": [
        {
          "output_type": "execute_result",
          "data": {
            "text/plain": [
              "         alpha      beta\n",
              "0     0.000000  1.000000\n",
              "1     0.502260  0.497780\n",
              "2     0.669694  0.330387\n",
              "3     0.753421  0.246700\n",
              "4     0.803665  0.196496\n",
              "...        ...       ...\n",
              "996   1.003717  0.000090\n",
              "997   1.003778  0.000090\n",
              "998   1.003839  0.000089\n",
              "999   1.003901  0.000089\n",
              "1000  1.003962  0.000088\n",
              "\n",
              "[1001 rows x 2 columns]"
            ],
            "text/html": [
              "\n",
              "  <div id=\"df-d6a386a3-fb8c-4ae6-b162-7e01400b592b\" class=\"colab-df-container\">\n",
              "    <div>\n",
              "<style scoped>\n",
              "    .dataframe tbody tr th:only-of-type {\n",
              "        vertical-align: middle;\n",
              "    }\n",
              "\n",
              "    .dataframe tbody tr th {\n",
              "        vertical-align: top;\n",
              "    }\n",
              "\n",
              "    .dataframe thead th {\n",
              "        text-align: right;\n",
              "    }\n",
              "</style>\n",
              "<table border=\"1\" class=\"dataframe\">\n",
              "  <thead>\n",
              "    <tr style=\"text-align: right;\">\n",
              "      <th></th>\n",
              "      <th>alpha</th>\n",
              "      <th>beta</th>\n",
              "    </tr>\n",
              "  </thead>\n",
              "  <tbody>\n",
              "    <tr>\n",
              "      <th>0</th>\n",
              "      <td>0.000000</td>\n",
              "      <td>1.000000</td>\n",
              "    </tr>\n",
              "    <tr>\n",
              "      <th>1</th>\n",
              "      <td>0.502260</td>\n",
              "      <td>0.497780</td>\n",
              "    </tr>\n",
              "    <tr>\n",
              "      <th>2</th>\n",
              "      <td>0.669694</td>\n",
              "      <td>0.330387</td>\n",
              "    </tr>\n",
              "    <tr>\n",
              "      <th>3</th>\n",
              "      <td>0.753421</td>\n",
              "      <td>0.246700</td>\n",
              "    </tr>\n",
              "    <tr>\n",
              "      <th>4</th>\n",
              "      <td>0.803665</td>\n",
              "      <td>0.196496</td>\n",
              "    </tr>\n",
              "    <tr>\n",
              "      <th>...</th>\n",
              "      <td>...</td>\n",
              "      <td>...</td>\n",
              "    </tr>\n",
              "    <tr>\n",
              "      <th>996</th>\n",
              "      <td>1.003717</td>\n",
              "      <td>0.000090</td>\n",
              "    </tr>\n",
              "    <tr>\n",
              "      <th>997</th>\n",
              "      <td>1.003778</td>\n",
              "      <td>0.000090</td>\n",
              "    </tr>\n",
              "    <tr>\n",
              "      <th>998</th>\n",
              "      <td>1.003839</td>\n",
              "      <td>0.000089</td>\n",
              "    </tr>\n",
              "    <tr>\n",
              "      <th>999</th>\n",
              "      <td>1.003901</td>\n",
              "      <td>0.000089</td>\n",
              "    </tr>\n",
              "    <tr>\n",
              "      <th>1000</th>\n",
              "      <td>1.003962</td>\n",
              "      <td>0.000088</td>\n",
              "    </tr>\n",
              "  </tbody>\n",
              "</table>\n",
              "<p>1001 rows × 2 columns</p>\n",
              "</div>\n",
              "    <div class=\"colab-df-buttons\">\n",
              "\n",
              "  <div class=\"colab-df-container\">\n",
              "    <button class=\"colab-df-convert\" onclick=\"convertToInteractive('df-d6a386a3-fb8c-4ae6-b162-7e01400b592b')\"\n",
              "            title=\"Convert this dataframe to an interactive table.\"\n",
              "            style=\"display:none;\">\n",
              "\n",
              "  <svg xmlns=\"http://www.w3.org/2000/svg\" height=\"24px\" viewBox=\"0 -960 960 960\">\n",
              "    <path d=\"M120-120v-720h720v720H120Zm60-500h600v-160H180v160Zm220 220h160v-160H400v160Zm0 220h160v-160H400v160ZM180-400h160v-160H180v160Zm440 0h160v-160H620v160ZM180-180h160v-160H180v160Zm440 0h160v-160H620v160Z\"/>\n",
              "  </svg>\n",
              "    </button>\n",
              "\n",
              "  <style>\n",
              "    .colab-df-container {\n",
              "      display:flex;\n",
              "      gap: 12px;\n",
              "    }\n",
              "\n",
              "    .colab-df-convert {\n",
              "      background-color: #E8F0FE;\n",
              "      border: none;\n",
              "      border-radius: 50%;\n",
              "      cursor: pointer;\n",
              "      display: none;\n",
              "      fill: #1967D2;\n",
              "      height: 32px;\n",
              "      padding: 0 0 0 0;\n",
              "      width: 32px;\n",
              "    }\n",
              "\n",
              "    .colab-df-convert:hover {\n",
              "      background-color: #E2EBFA;\n",
              "      box-shadow: 0px 1px 2px rgba(60, 64, 67, 0.3), 0px 1px 3px 1px rgba(60, 64, 67, 0.15);\n",
              "      fill: #174EA6;\n",
              "    }\n",
              "\n",
              "    .colab-df-buttons div {\n",
              "      margin-bottom: 4px;\n",
              "    }\n",
              "\n",
              "    [theme=dark] .colab-df-convert {\n",
              "      background-color: #3B4455;\n",
              "      fill: #D2E3FC;\n",
              "    }\n",
              "\n",
              "    [theme=dark] .colab-df-convert:hover {\n",
              "      background-color: #434B5C;\n",
              "      box-shadow: 0px 1px 3px 1px rgba(0, 0, 0, 0.15);\n",
              "      filter: drop-shadow(0px 1px 2px rgba(0, 0, 0, 0.3));\n",
              "      fill: #FFFFFF;\n",
              "    }\n",
              "  </style>\n",
              "\n",
              "    <script>\n",
              "      const buttonEl =\n",
              "        document.querySelector('#df-d6a386a3-fb8c-4ae6-b162-7e01400b592b button.colab-df-convert');\n",
              "      buttonEl.style.display =\n",
              "        google.colab.kernel.accessAllowed ? 'block' : 'none';\n",
              "\n",
              "      async function convertToInteractive(key) {\n",
              "        const element = document.querySelector('#df-d6a386a3-fb8c-4ae6-b162-7e01400b592b');\n",
              "        const dataTable =\n",
              "          await google.colab.kernel.invokeFunction('convertToInteractive',\n",
              "                                                    [key], {});\n",
              "        if (!dataTable) return;\n",
              "\n",
              "        const docLinkHtml = 'Like what you see? Visit the ' +\n",
              "          '<a target=\"_blank\" href=https://colab.research.google.com/notebooks/data_table.ipynb>data table notebook</a>'\n",
              "          + ' to learn more about interactive tables.';\n",
              "        element.innerHTML = '';\n",
              "        dataTable['output_type'] = 'display_data';\n",
              "        await google.colab.output.renderOutput(dataTable, element);\n",
              "        const docLink = document.createElement('div');\n",
              "        docLink.innerHTML = docLinkHtml;\n",
              "        element.appendChild(docLink);\n",
              "      }\n",
              "    </script>\n",
              "  </div>\n",
              "\n",
              "\n",
              "<div id=\"df-2e38b0d0-2779-4137-8bd2-5711b683586b\">\n",
              "  <button class=\"colab-df-quickchart\" onclick=\"quickchart('df-2e38b0d0-2779-4137-8bd2-5711b683586b')\"\n",
              "            title=\"Suggest charts\"\n",
              "            style=\"display:none;\">\n",
              "\n",
              "<svg xmlns=\"http://www.w3.org/2000/svg\" height=\"24px\"viewBox=\"0 0 24 24\"\n",
              "     width=\"24px\">\n",
              "    <g>\n",
              "        <path d=\"M19 3H5c-1.1 0-2 .9-2 2v14c0 1.1.9 2 2 2h14c1.1 0 2-.9 2-2V5c0-1.1-.9-2-2-2zM9 17H7v-7h2v7zm4 0h-2V7h2v10zm4 0h-2v-4h2v4z\"/>\n",
              "    </g>\n",
              "</svg>\n",
              "  </button>\n",
              "\n",
              "<style>\n",
              "  .colab-df-quickchart {\n",
              "      --bg-color: #E8F0FE;\n",
              "      --fill-color: #1967D2;\n",
              "      --hover-bg-color: #E2EBFA;\n",
              "      --hover-fill-color: #174EA6;\n",
              "      --disabled-fill-color: #AAA;\n",
              "      --disabled-bg-color: #DDD;\n",
              "  }\n",
              "\n",
              "  [theme=dark] .colab-df-quickchart {\n",
              "      --bg-color: #3B4455;\n",
              "      --fill-color: #D2E3FC;\n",
              "      --hover-bg-color: #434B5C;\n",
              "      --hover-fill-color: #FFFFFF;\n",
              "      --disabled-bg-color: #3B4455;\n",
              "      --disabled-fill-color: #666;\n",
              "  }\n",
              "\n",
              "  .colab-df-quickchart {\n",
              "    background-color: var(--bg-color);\n",
              "    border: none;\n",
              "    border-radius: 50%;\n",
              "    cursor: pointer;\n",
              "    display: none;\n",
              "    fill: var(--fill-color);\n",
              "    height: 32px;\n",
              "    padding: 0;\n",
              "    width: 32px;\n",
              "  }\n",
              "\n",
              "  .colab-df-quickchart:hover {\n",
              "    background-color: var(--hover-bg-color);\n",
              "    box-shadow: 0 1px 2px rgba(60, 64, 67, 0.3), 0 1px 3px 1px rgba(60, 64, 67, 0.15);\n",
              "    fill: var(--button-hover-fill-color);\n",
              "  }\n",
              "\n",
              "  .colab-df-quickchart-complete:disabled,\n",
              "  .colab-df-quickchart-complete:disabled:hover {\n",
              "    background-color: var(--disabled-bg-color);\n",
              "    fill: var(--disabled-fill-color);\n",
              "    box-shadow: none;\n",
              "  }\n",
              "\n",
              "  .colab-df-spinner {\n",
              "    border: 2px solid var(--fill-color);\n",
              "    border-color: transparent;\n",
              "    border-bottom-color: var(--fill-color);\n",
              "    animation:\n",
              "      spin 1s steps(1) infinite;\n",
              "  }\n",
              "\n",
              "  @keyframes spin {\n",
              "    0% {\n",
              "      border-color: transparent;\n",
              "      border-bottom-color: var(--fill-color);\n",
              "      border-left-color: var(--fill-color);\n",
              "    }\n",
              "    20% {\n",
              "      border-color: transparent;\n",
              "      border-left-color: var(--fill-color);\n",
              "      border-top-color: var(--fill-color);\n",
              "    }\n",
              "    30% {\n",
              "      border-color: transparent;\n",
              "      border-left-color: var(--fill-color);\n",
              "      border-top-color: var(--fill-color);\n",
              "      border-right-color: var(--fill-color);\n",
              "    }\n",
              "    40% {\n",
              "      border-color: transparent;\n",
              "      border-right-color: var(--fill-color);\n",
              "      border-top-color: var(--fill-color);\n",
              "    }\n",
              "    60% {\n",
              "      border-color: transparent;\n",
              "      border-right-color: var(--fill-color);\n",
              "    }\n",
              "    80% {\n",
              "      border-color: transparent;\n",
              "      border-right-color: var(--fill-color);\n",
              "      border-bottom-color: var(--fill-color);\n",
              "    }\n",
              "    90% {\n",
              "      border-color: transparent;\n",
              "      border-bottom-color: var(--fill-color);\n",
              "    }\n",
              "  }\n",
              "</style>\n",
              "\n",
              "  <script>\n",
              "    async function quickchart(key) {\n",
              "      const quickchartButtonEl =\n",
              "        document.querySelector('#' + key + ' button');\n",
              "      quickchartButtonEl.disabled = true;  // To prevent multiple clicks.\n",
              "      quickchartButtonEl.classList.add('colab-df-spinner');\n",
              "      try {\n",
              "        const charts = await google.colab.kernel.invokeFunction(\n",
              "            'suggestCharts', [key], {});\n",
              "      } catch (error) {\n",
              "        console.error('Error during call to suggestCharts:', error);\n",
              "      }\n",
              "      quickchartButtonEl.classList.remove('colab-df-spinner');\n",
              "      quickchartButtonEl.classList.add('colab-df-quickchart-complete');\n",
              "    }\n",
              "    (() => {\n",
              "      let quickchartButtonEl =\n",
              "        document.querySelector('#df-2e38b0d0-2779-4137-8bd2-5711b683586b button');\n",
              "      quickchartButtonEl.style.display =\n",
              "        google.colab.kernel.accessAllowed ? 'block' : 'none';\n",
              "    })();\n",
              "  </script>\n",
              "</div>\n",
              "    </div>\n",
              "  </div>\n"
            ],
            "application/vnd.google.colaboratory.intrinsic+json": {
              "type": "dataframe",
              "variable_name": "df",
              "summary": "{\n  \"name\": \"df\",\n  \"rows\": 1001,\n  \"fields\": [\n    {\n      \"column\": \"alpha\",\n      \"properties\": {\n        \"dtype\": \"number\",\n        \"std\": 0.16745938543972705,\n        \"min\": -2.0248522582674022,\n        \"max\": 3.9866279575704007,\n        \"num_unique_values\": 1001,\n        \"samples\": [\n          0.9985182508251472,\n          0.9999547592401319,\n          1.0184849128535696\n        ],\n        \"semantic_type\": \"\",\n        \"description\": \"\"\n      }\n    },\n    {\n      \"column\": \"beta\",\n      \"properties\": {\n        \"dtype\": \"number\",\n        \"std\": 0.0441702405433198,\n        \"min\": -0.49582661691469715,\n        \"max\": 1.0,\n        \"num_unique_values\": 1001,\n        \"samples\": [\n          -0.0009472608425518281,\n          0.00013261349084908052,\n          -0.0005781491539619954\n        ],\n        \"semantic_type\": \"\",\n        \"description\": \"\"\n      }\n    }\n  ]\n}"
            }
          },
          "metadata": {},
          "execution_count": 243
        }
      ]
    },
    {
      "cell_type": "code",
      "source": [
        "sns.lineplot(data=df)"
      ],
      "metadata": {
        "colab": {
          "base_uri": "https://localhost:8080/",
          "height": 447
        },
        "id": "J_RbrIblGV-g",
        "outputId": "80fa7fe4-79f0-43a7-ec73-cd134549a1b4"
      },
      "execution_count": null,
      "outputs": [
        {
          "output_type": "execute_result",
          "data": {
            "text/plain": [
              "<Axes: >"
            ]
          },
          "metadata": {},
          "execution_count": 244
        },
        {
          "output_type": "display_data",
          "data": {
            "text/plain": [
              "<Figure size 640x480 with 1 Axes>"
            ],
            "image/png": "[encoded data removed]"
          },
          "metadata": {}
        }
      ]
    },
    {
      "cell_type": "code",
      "source": [],
      "metadata": {
        "id": "PbhsjD3fGVU1"
      },
      "execution_count": null,
      "outputs": []
    },
    {
      "cell_type": "code",
      "source": [
        "ly=[A_b]\n",
        "for i in range(1,n):\n",
        "    y=__y__(ly[i-1],Lalpha[i],Lbeta[i])\n",
        "    ly.append(y)\n",
        "print(\"y[0]:\", ly[0], \" y[n]:\", ly[n-1])"
      ],
      "metadata": {
        "colab": {
          "base_uri": "https://localhost:8080/"
        },
        "id": "F7wnWa4YBwlW",
        "outputId": "fe05e94a-6e2c-47bc-d1e6-13f21c886dfd"
      },
      "execution_count": null,
      "outputs": [
        {
          "output_type": "stream",
          "name": "stdout",
          "text": [
            "y[0]: 1  y[n]: 0.007375034094103811\n"
          ]
        }
      ]
    },
    {
      "cell_type": "code",
      "source": [
        "answ_A=[]\n",
        "for i in range(len(lx)-2):\n",
        "    answ_A.append(y_2(ly[i],ly[i-1],ly[i-2],dx)+ y_1(ly[i],ly[i-1],dx) - 2*ly[i])\n",
        "answ_A[::5]"
      ],
      "metadata": {
        "colab": {
          "base_uri": "https://localhost:8080/"
        },
        "id": "P70PCb9w4tLK",
        "outputId": "54362d7c-0001-469f-c2bb-6710d95aabeb"
      },
      "execution_count": null,
      "outputs": [
        {
          "output_type": "execute_result",
          "data": {
            "text/plain": [
              "[12364.372762965037,\n",
              " -2.9968250220026156,\n",
              " -2.987881993540403,\n",
              " -2.9734412411819493,\n",
              " -2.9537720852367517,\n",
              " -2.9291423529504512,\n",
              " -2.89981791600576,\n",
              " -2.8660622521427155,\n",
              " -2.8281360306521974,\n",
              " -2.7862967216282497,\n",
              " -2.740798228603285,\n",
              " -2.6918905443327223,\n",
              " -2.639819429339615,\n",
              " -2.5848261129206835,\n",
              " -2.527147016147515,\n",
              " -2.467013496510189,\n",
              " -2.4046516137111036,\n",
              " -2.340281916160514,\n",
              " -2.274119247712852,\n",
              " -2.206372574077651,\n",
              " -2.137244828461601,\n",
              " -2.0669327758277,\n",
              " -1.995626895281496,\n",
              " -1.923511279996022,\n",
              " -1.8507635541108312,\n",
              " -1.777554806016252,\n",
              " -1.7040495374418156,\n",
              " -1.6304056277686434,\n",
              " -1.5567743129553024,\n",
              " -1.4833001784781714,\n",
              " -1.4101211656871067,\n",
              " -1.3373685909894504,\n",
              " -1.2651671772457873,\n",
              " -1.1936350967892198,\n",
              " -1.1228840254669579,\n",
              " -1.053019207126829,\n",
              " -0.9841395279541946,\n",
              " -0.9163376000797159,\n",
              " -0.8496998538991549,\n",
              " -0.7843066385269037,\n",
              " -0.7202323298411005,\n",
              " -0.657545445563369,\n",
              " -0.5963087668498568,\n",
              " -0.5365794658584637,\n",
              " -0.47840923878850394,\n",
              " -0.4218444438772284,\n",
              " -0.36692624388398415,\n",
              " -0.3136907525632414,\n",
              " -0.2621691846779078,\n",
              " -0.21238800909593383,\n",
              " -0.16436910453376954,\n",
              " -0.11812991752700507,\n",
              " -0.07368362221324894,\n",
              " -0.03103928153934371,\n",
              " 0.009797990492321782,\n",
              " 0.048826865899881666,\n",
              " 0.08604963947416311,\n",
              " 0.12147206554171895,\n",
              " 0.15510319505939388,\n",
              " 0.18695521334813736,\n",
              " 0.2170432787574165,\n",
              " 0.24538536253793575,\n",
              " 0.27200209018401467,\n",
              " 0.29691658449501435,\n",
              " 0.32015431059107063,\n",
              " 0.34174292310014903,\n",
              " 0.3617121157244697,\n",
              " 0.3800934733776879,\n",
              " 0.39692032707586833,\n",
              " 0.4122276117346248,\n",
              " 0.4260517270467754,\n",
              " 0.43843040155874813,\n",
              " 0.4494025600855913,\n",
              " 0.459008194575236,\n",
              " 0.467288238531784,\n",
              " 0.4742844450750683,\n",
              " 0.4800392687382783,\n",
              " 0.4845957510474168,\n",
              " 0.48799740997250995,\n",
              " 0.490288133269671,\n",
              " 0.49151207577407074,\n",
              " 0.49171356066443367,\n",
              " 0.4909369847194592,\n",
              " 0.48922672758114577,\n",
              " 0.4866270650294645,\n",
              " 0.4831820862570628,\n",
              " 0.47893561513868976,\n",
              " 0.4739311354729902,\n",
              " 0.4682117201661089,\n",
              " 0.4618199643328381,\n",
              " 0.45479792226714366,\n",
              " 0.447187048241456,\n",
              " 0.43902814107961463,\n",
              " 0.4303612924553627,\n",
              " 0.42122583884452447,\n",
              " 0.41166031707214235,\n",
              " 0.40170242338551154,\n",
              " 0.39138897597491507,\n",
              " 0.3807558808682026,\n",
              " 0.3698381011157109,\n",
              " 0.35866962918726664,\n",
              " 0.34728346248668657,\n",
              " 0.3357115819075419,\n",
              " 0.3239849333244043,\n",
              " 0.31213341193927824,\n",
              " 0.3001858493855194,\n",
              " 0.288170003490679,\n",
              " 0.27611255060516743,\n",
              " 0.26403908040086527,\n",
              " 0.25197409303542373,\n",
              " 0.23994099859408857,\n",
              " 0.22796211869753277,\n",
              " 0.21605869019240753,\n",
              " 0.20425087081196197,\n",
              " 0.19255774671840153,\n",
              " 0.18099734183080513,\n",
              " 0.1695866288292363,\n",
              " 0.15834154175780574,\n",
              " 0.14727699011769246,\n",
              " 0.13640687436474586,\n",
              " 0.12574410271490533,\n",
              " 0.11530060917165234,\n",
              " 0.10508737268192214,\n",
              " 0.09511443733699301,\n",
              " 0.08539093352965466,\n",
              " 0.07592509998632901,\n",
              " 0.06672430659156642,\n",
              " 0.05779507792482419,\n",
              " 0.0491431174327797,\n",
              " 0.040773332160654235,\n",
              " 0.03268985797033281,\n",
              " 0.02489608517338019,\n",
              " 0.01739468451130978,\n",
              " 0.010187633415221466,\n",
              " 0.0032762424821449468,\n",
              " -0.00333881789427242,\n",
              " -0.009657490797914482,\n",
              " -0.015680306025827928,\n",
              " -0.021408353340061196,\n",
              " -0.026843255787403292,\n",
              " -0.031987143136934765,\n",
              " -0.036842625482481614,\n",
              " -0.0414127670546853,\n",
              " -0.04570106028511886,\n",
              " -0.049711400162830696,\n",
              " -0.05344805892097959,\n",
              " -0.0569156610878324,\n",
              " -0.0601191589380463,\n",
              " -0.06306380837185935,\n",
              " -0.06575514525344602,\n",
              " -0.06819896223365841,\n",
              " -0.07040128608175648,\n",
              " -0.07236835554983237,\n",
              " -0.07410659978774675,\n",
              " -0.07562261732932482,\n",
              " -0.07692315566506121,\n",
              " -0.07801509141599089,\n",
              " -0.07890541112191675,\n",
              " -0.07960119265403706,\n",
              " -0.08010958726284802,\n",
              " -0.08043780226702371,\n",
              " -0.08059308439019636,\n",
              " -0.08058270375075686,\n",
              " -0.08041393850647514,\n",
              " -0.08009406015601546,\n",
              " -0.0796303194973089,\n",
              " -0.0790299332427126,\n",
              " -0.07830007128656628,\n",
              " -0.07744784462411321,\n",
              " -0.07648029391447335,\n",
              " -0.07540437868431896,\n",
              " -0.07422696716440669,\n",
              " -0.07295482675033403,\n",
              " -0.07159461508146704,\n",
              " -0.0701528717257876,\n",
              " -0.06863601046211162,\n",
              " -0.06705031214921876,\n",
              " -0.06540191816767169,\n",
              " -0.06369682442561408,\n",
              " -0.06194087591307071,\n",
              " -0.0601397617920836,\n",
              " -0.0582990110097131,\n",
              " -0.056423988418916486,\n",
              " -0.054519891392024955,\n",
              " -0.05259174691430731,\n",
              " -0.05064440913886323,\n",
              " -0.048682557390805126,\n",
              " -0.04671069460266592,\n",
              " -0.04473314616633574,\n",
              " -0.04275405918531158,\n",
              " -0.0407774021105773,\n",
              " -0.038806964745755734,\n",
              " -0.0368463586027608,\n",
              " -0.03489901759446408,\n",
              " -0.032968199046213606,\n",
              " -0.03105698501196208,\n",
              " -0.029168283877430652,\n",
              " -0.027304832235798857,\n",
              " -0.025469197019766972,\n",
              " -0.02366377787468493]"
            ]
          },
          "metadata": {},
          "execution_count": 246
        }
      ]
    },
    {
      "cell_type": "code",
      "source": [
        "sns.lineplot(answ_A)"
      ],
      "metadata": {
        "colab": {
          "base_uri": "https://localhost:8080/",
          "height": 447
        },
        "id": "h7UUxuQ8EFtE",
        "outputId": "c6c9da9e-04ed-441a-80ea-f2e1f89e2e52"
      },
      "execution_count": null,
      "outputs": [
        {
          "output_type": "execute_result",
          "data": {
            "text/plain": [
              "<Axes: >"
            ]
          },
          "metadata": {},
          "execution_count": 247
        },
        {
          "output_type": "display_data",
          "data": {
            "text/plain": [
              "<Figure size 640x480 with 1 Axes>"
            ],
            "image/png": "[encoded data removed]"
          },
          "metadata": {}
        }
      ]
    }
  ]
}